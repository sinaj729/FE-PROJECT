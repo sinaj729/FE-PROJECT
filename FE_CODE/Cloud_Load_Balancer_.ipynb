{
  "cells": [
    {
      "cell_type": "code",
      "execution_count": 1,
      "metadata": {
        "colab": {
          "base_uri": "https://localhost:8080/"
        },
        "id": "SKy0RRmr8Cla",
        "outputId": "44d1e7ad-1662-4b16-bf50-c58d43f8389b"
      },
      "outputs": [
        {
          "output_type": "stream",
          "name": "stdout",
          "text": [
            "/content/CloudLoadBalancer\n",
            "Downloading...\n",
            "From: https://drive.google.com/uc?id=1HwyN1dB0cgG_RUvDjBc_hRSVcS6f8p8Q\n",
            "To: /content/CloudLoadBalancer/trainclouddata.csv\n",
            "100% 889/889 [00:00<00:00, 2.37MB/s]\n",
            "/content\n"
          ]
        }
      ],
      "source": [
        "!mkdir CloudLoadBalancer\n",
        "%cd CloudLoadBalancer\n",
        "!gdown 1HwyN1dB0cgG_RUvDjBc_hRSVcS6f8p8Q\n",
        "%cd .."
      ]
    },
    {
      "cell_type": "code",
      "execution_count": 2,
      "metadata": {
        "id": "UvYnXr4w3VM-"
      },
      "outputs": [],
      "source": [
        "#Game Theory\n",
        "serverA = None\n",
        "serverB = None\n",
        " \n",
        "\n",
        "def calculateMex(Set):\n",
        "  \n",
        "    Mex = 0;\n",
        "   \n",
        "    while (Mex in Set):\n",
        "        Mex += 1\n",
        "   \n",
        "    return (Mex)\n",
        " \n",
        "\n",
        "def calculateOptimalMove(n, moves):\n",
        " \n",
        "    moves[0] = 0\n",
        "    moves[1] = 1\n",
        "    moves[2] = 2\n",
        "    moves[3] = 3\n",
        "   \n",
        "    if (moves[n] != -1):\n",
        "        return (moves[n])\n",
        "     \n",
        "\n",
        "    Set = set()\n",
        "   \n",
        "    for i in range(1, 4):\n",
        "        Set.add(calculateOptimalMove(n - i,moves))\n",
        "     \n",
        "\n",
        "    moves[n] = calculateMex(Set)\n",
        "   \n",
        "    return (moves[n])\n",
        "  \n",
        "\n",
        "def declareWinnerServer(whoseTurn, piles, moves, n):\n",
        " \n",
        "    xorValue = moves[piles[0]];\n",
        "   \n",
        "    for i in range(1, n):\n",
        "        xorValue = (xorValue ^\n",
        "                    moves[piles[i]])\n",
        "   \n",
        "    if (xorValue != 0):\n",
        "     \n",
        "        if (whoseTurn == serverA):\n",
        "            print(\"serverA will win\\n\");\n",
        "        else:\n",
        "            print(\"serverB will win\\n\");\n",
        "    else:\n",
        "     \n",
        "        if (whoseTurn == serverA):\n",
        "            print(\"serverA will win\\n\");\n",
        "        else:\n",
        "            print(\"serverB will win\\n\");"
      ]
    },
    {
      "cell_type": "code",
      "execution_count": 3,
      "metadata": {
        "id": "ctTMFLVb8emn"
      },
      "outputs": [],
      "source": [
        "# Load prerequisite test; to check dependencies\n",
        "\n",
        "#Video > server > stream (all); \n",
        "\n",
        "from collections import defaultdict\n",
        "\n",
        "class TasksGraph():\n",
        "    def __init__(self,vertices):\n",
        "        self.graph = defaultdict(list)\n",
        "        self.V = vertices\n",
        "        \n",
        "    def addEdge(self,u,v):\n",
        "        self.graph[u].append(v)\n",
        "\n",
        "    def isCyclicUtil(self, v, visited, recStack):\n",
        "\n",
        "\n",
        "        visited[v] = True\n",
        "        recStack[v] = True\n",
        "\n",
        "\n",
        "        for neighbour in self.graph[v]:\n",
        "            if visited[neighbour] == False:\n",
        "                if self.isCyclicUtil(neighbour, visited, recStack) == True:\n",
        "                    return True\n",
        "            elif recStack[neighbour] == True:\n",
        "                return True\n",
        "\n",
        "\n",
        "        recStack[v] = False\n",
        "        return False\n",
        "\n",
        "\n",
        "    def isCyclic(self):\n",
        "        visited = [False] * (self.V + 1)\n",
        "        recStack = [False] * (self.V + 1)\n",
        "        for node in range(self.V):\n",
        "            if visited[node] == False:\n",
        "                if self.isCyclicUtil(node,visited,recStack) == True:\n",
        "                    return True\n",
        "        return False\n",
        "\n"
      ]
    },
    {
      "cell_type": "code",
      "execution_count": 4,
      "metadata": {
        "id": "IzqN5rT3A_vN"
      },
      "outputs": [],
      "source": [
        "# train data set load\n",
        "import csv\n",
        "import codecs\n",
        "rows=[]\n",
        "def LoadData(datasetLocation):\n",
        "  with codecs.open(datasetLocation, 'r',encoding=\"utf-8\",errors='ignore') as csvfile:\n",
        "    csvreader = csv.reader(csvfile)\n",
        "    fields = next(csvreader)\n",
        "    for row in csvreader:\n",
        "      rows.append(row)\n"
      ]
    },
    {
      "cell_type": "markdown",
      "metadata": {
        "id": "SM_SvEt0NZxn"
      },
      "source": [
        "# MLP\n",
        "\n",
        "Feature Extraction"
      ]
    },
    {
      "cell_type": "code",
      "execution_count": 5,
      "metadata": {
        "id": "QKDoxP2a9294"
      },
      "outputs": [],
      "source": [
        "# importing required libraries\n",
        "import numpy as np\n",
        "import matplotlib.pyplot as plt\n",
        "import pandas as pd\n",
        "from sklearn.linear_model import LogisticRegression\n",
        "from sklearn.model_selection import train_test_split\n",
        "from sklearn.preprocessing import StandardScaler\n",
        "\n",
        "def getFeatures(dataset):\n",
        "  dataset = pd.read_csv(dataset)\n",
        "  # importing or loading the dataset\n",
        "  # distributing the dataset into two components X and Y\n",
        "  X = dataset.iloc[:, 0:13].values\n",
        "  y = dataset.iloc[:, 13].values\n",
        "\n",
        "  # Splitting the X and Y into the Training set and Testing set\n",
        "  \n",
        "\n",
        "  X_Train, X_Test, Y_Train, Y_Test = train_test_split(X, y, test_size = 0.2, random_state = 0)\n",
        "  # performing preprocessing part\n",
        "  stdSclr = StandardScaler()\n",
        "  from sklearn.decomposition import PCA\n",
        "  X_Train = stdSclr.fit_transform(X_Train)\n",
        "  X_Test = stdSclr.transform(X_Test)\n",
        "  # Applying PCA function on training\n",
        "  # and testing set of X component\n",
        "  pca = PCA(n_components = 3)\n",
        "\n",
        "  X_Train = pca.fit_transform(X_Train)\n",
        "  X_Test = pca.transform(X_Test)\n",
        "\n",
        "  explained_variance = pca.explained_variance_ratio_\n",
        "  # Fitting Logistic Regression To the training set\n",
        "  from sklearn.metrics import confusion_matrix\n",
        "  classifier = LogisticRegression(random_state = 0)\n",
        "  classifier.fit(X_Train, Y_Train)\n",
        "  # Predicting the test set result using predict function under LogisticRegression\n",
        "  y_pred = classifier.predict(X_Test)\n",
        "  # creating confusion matrix between the test set of Y and predicted value.\n",
        "\n",
        "  cm = confusion_matrix(Y_Test, y_pred)\n",
        "  return cm\n",
        "\n"
      ]
    },
    {
      "cell_type": "code",
      "execution_count": 6,
      "metadata": {
        "id": "PsSpAcIqA2x7"
      },
      "outputs": [],
      "source": [
        "from torch._C import TensorType\n",
        "#Register Servers\n",
        "serversData=[]\n",
        "def Server(storage,data,CPU,GPU,networkstrength,gradient,serverid):\n",
        "  serversData.append([storage,data,CPU,GPU,networkstrength,gradient,serverid])\n",
        "def sortServers():\n",
        "  serversData.sort(serversData,key=TensorType)"
      ]
    },
    {
      "cell_type": "code",
      "execution_count": 7,
      "metadata": {
        "id": "R5VxG9hB_SoG"
      },
      "outputs": [],
      "source": [
        "serverImportance=[0 for i in range(len(serversData))]\n",
        "operations=['Upload','Download','Stream','LiveStream','ShortStream']\n",
        "ser=[0,1,3,5,2]\n",
        "temp=[0 for i in range(len(serversData))]\n",
        "x=-1\n",
        "def computeServerImportance():\n",
        "  global x,serverImportance,temp\n",
        "  for j in operations:\n",
        "    for i in range(len(rows)):\n",
        "      if rows[i][0]==j:\n",
        "        if int(rows[i][1])<len(temp):\n",
        "          temp[int(rows[i][1])]+=1\n",
        "    x+=1\n",
        "    indexx=-1\n",
        "    p=max(temp)\n",
        "    indexx=temp.index(p)\n",
        "    serverImportance[x]=indexx\n",
        "  \n"
      ]
    },
    {
      "cell_type": "code",
      "execution_count": 8,
      "metadata": {
        "colab": {
          "base_uri": "https://localhost:8080/"
        },
        "id": "HQ5Hcl7SlaTr",
        "outputId": "da9a220c-16c6-40d4-f6d8-67d3187b0778"
      },
      "outputs": [
        {
          "output_type": "stream",
          "name": "stdout",
          "text": [
            "Looking in indexes: https://pypi.org/simple, https://us-python.pkg.dev/colab-wheels/public/simple/\n",
            "Requirement already satisfied: tensorflow in /usr/local/lib/python3.7/dist-packages (2.9.2)\n",
            "Requirement already satisfied: astunparse>=1.6.0 in /usr/local/lib/python3.7/dist-packages (from tensorflow) (1.6.3)\n",
            "Requirement already satisfied: numpy>=1.20 in /usr/local/lib/python3.7/dist-packages (from tensorflow) (1.21.6)\n",
            "Requirement already satisfied: termcolor>=1.1.0 in /usr/local/lib/python3.7/dist-packages (from tensorflow) (2.1.0)\n",
            "Requirement already satisfied: tensorflow-estimator<2.10.0,>=2.9.0rc0 in /usr/local/lib/python3.7/dist-packages (from tensorflow) (2.9.0)\n",
            "Requirement already satisfied: gast<=0.4.0,>=0.2.1 in /usr/local/lib/python3.7/dist-packages (from tensorflow) (0.4.0)\n",
            "Requirement already satisfied: packaging in /usr/local/lib/python3.7/dist-packages (from tensorflow) (21.3)\n",
            "Requirement already satisfied: typing-extensions>=3.6.6 in /usr/local/lib/python3.7/dist-packages (from tensorflow) (4.1.1)\n",
            "Requirement already satisfied: setuptools in /usr/local/lib/python3.7/dist-packages (from tensorflow) (57.4.0)\n",
            "Requirement already satisfied: wrapt>=1.11.0 in /usr/local/lib/python3.7/dist-packages (from tensorflow) (1.14.1)\n",
            "Requirement already satisfied: h5py>=2.9.0 in /usr/local/lib/python3.7/dist-packages (from tensorflow) (3.1.0)\n",
            "Requirement already satisfied: tensorflow-io-gcs-filesystem>=0.23.1 in /usr/local/lib/python3.7/dist-packages (from tensorflow) (0.27.0)\n",
            "Requirement already satisfied: tensorboard<2.10,>=2.9 in /usr/local/lib/python3.7/dist-packages (from tensorflow) (2.9.1)\n",
            "Requirement already satisfied: google-pasta>=0.1.1 in /usr/local/lib/python3.7/dist-packages (from tensorflow) (0.2.0)\n",
            "Requirement already satisfied: keras<2.10.0,>=2.9.0rc0 in /usr/local/lib/python3.7/dist-packages (from tensorflow) (2.9.0)\n",
            "Requirement already satisfied: protobuf<3.20,>=3.9.2 in /usr/local/lib/python3.7/dist-packages (from tensorflow) (3.19.6)\n",
            "Requirement already satisfied: opt-einsum>=2.3.2 in /usr/local/lib/python3.7/dist-packages (from tensorflow) (3.3.0)\n",
            "Requirement already satisfied: absl-py>=1.0.0 in /usr/local/lib/python3.7/dist-packages (from tensorflow) (1.3.0)\n",
            "Requirement already satisfied: six>=1.12.0 in /usr/local/lib/python3.7/dist-packages (from tensorflow) (1.15.0)\n",
            "Requirement already satisfied: grpcio<2.0,>=1.24.3 in /usr/local/lib/python3.7/dist-packages (from tensorflow) (1.50.0)\n",
            "Requirement already satisfied: libclang>=13.0.0 in /usr/local/lib/python3.7/dist-packages (from tensorflow) (14.0.6)\n",
            "Requirement already satisfied: flatbuffers<2,>=1.12 in /usr/local/lib/python3.7/dist-packages (from tensorflow) (1.12)\n",
            "Requirement already satisfied: keras-preprocessing>=1.1.1 in /usr/local/lib/python3.7/dist-packages (from tensorflow) (1.1.2)\n",
            "Requirement already satisfied: wheel<1.0,>=0.23.0 in /usr/local/lib/python3.7/dist-packages (from astunparse>=1.6.0->tensorflow) (0.38.3)\n",
            "Requirement already satisfied: cached-property in /usr/local/lib/python3.7/dist-packages (from h5py>=2.9.0->tensorflow) (1.5.2)\n",
            "Requirement already satisfied: requests<3,>=2.21.0 in /usr/local/lib/python3.7/dist-packages (from tensorboard<2.10,>=2.9->tensorflow) (2.23.0)\n",
            "Requirement already satisfied: google-auth<3,>=1.6.3 in /usr/local/lib/python3.7/dist-packages (from tensorboard<2.10,>=2.9->tensorflow) (2.14.1)\n",
            "Requirement already satisfied: tensorboard-data-server<0.7.0,>=0.6.0 in /usr/local/lib/python3.7/dist-packages (from tensorboard<2.10,>=2.9->tensorflow) (0.6.1)\n",
            "Requirement already satisfied: markdown>=2.6.8 in /usr/local/lib/python3.7/dist-packages (from tensorboard<2.10,>=2.9->tensorflow) (3.4.1)\n",
            "Requirement already satisfied: werkzeug>=1.0.1 in /usr/local/lib/python3.7/dist-packages (from tensorboard<2.10,>=2.9->tensorflow) (1.0.1)\n",
            "Requirement already satisfied: google-auth-oauthlib<0.5,>=0.4.1 in /usr/local/lib/python3.7/dist-packages (from tensorboard<2.10,>=2.9->tensorflow) (0.4.6)\n",
            "Requirement already satisfied: tensorboard-plugin-wit>=1.6.0 in /usr/local/lib/python3.7/dist-packages (from tensorboard<2.10,>=2.9->tensorflow) (1.8.1)\n",
            "Requirement already satisfied: pyasn1-modules>=0.2.1 in /usr/local/lib/python3.7/dist-packages (from google-auth<3,>=1.6.3->tensorboard<2.10,>=2.9->tensorflow) (0.2.8)\n",
            "Requirement already satisfied: cachetools<6.0,>=2.0.0 in /usr/local/lib/python3.7/dist-packages (from google-auth<3,>=1.6.3->tensorboard<2.10,>=2.9->tensorflow) (5.2.0)\n",
            "Requirement already satisfied: rsa<5,>=3.1.4 in /usr/local/lib/python3.7/dist-packages (from google-auth<3,>=1.6.3->tensorboard<2.10,>=2.9->tensorflow) (4.9)\n",
            "Requirement already satisfied: requests-oauthlib>=0.7.0 in /usr/local/lib/python3.7/dist-packages (from google-auth-oauthlib<0.5,>=0.4.1->tensorboard<2.10,>=2.9->tensorflow) (1.3.1)\n",
            "Requirement already satisfied: importlib-metadata>=4.4 in /usr/local/lib/python3.7/dist-packages (from markdown>=2.6.8->tensorboard<2.10,>=2.9->tensorflow) (4.13.0)\n",
            "Requirement already satisfied: zipp>=0.5 in /usr/local/lib/python3.7/dist-packages (from importlib-metadata>=4.4->markdown>=2.6.8->tensorboard<2.10,>=2.9->tensorflow) (3.10.0)\n",
            "Requirement already satisfied: pyasn1<0.5.0,>=0.4.6 in /usr/local/lib/python3.7/dist-packages (from pyasn1-modules>=0.2.1->google-auth<3,>=1.6.3->tensorboard<2.10,>=2.9->tensorflow) (0.4.8)\n",
            "Requirement already satisfied: chardet<4,>=3.0.2 in /usr/local/lib/python3.7/dist-packages (from requests<3,>=2.21.0->tensorboard<2.10,>=2.9->tensorflow) (3.0.4)\n",
            "Requirement already satisfied: idna<3,>=2.5 in /usr/local/lib/python3.7/dist-packages (from requests<3,>=2.21.0->tensorboard<2.10,>=2.9->tensorflow) (2.10)\n",
            "Requirement already satisfied: certifi>=2017.4.17 in /usr/local/lib/python3.7/dist-packages (from requests<3,>=2.21.0->tensorboard<2.10,>=2.9->tensorflow) (2022.9.24)\n",
            "Requirement already satisfied: urllib3!=1.25.0,!=1.25.1,<1.26,>=1.21.1 in /usr/local/lib/python3.7/dist-packages (from requests<3,>=2.21.0->tensorboard<2.10,>=2.9->tensorflow) (1.24.3)\n",
            "Requirement already satisfied: oauthlib>=3.0.0 in /usr/local/lib/python3.7/dist-packages (from requests-oauthlib>=0.7.0->google-auth-oauthlib<0.5,>=0.4.1->tensorboard<2.10,>=2.9->tensorflow) (3.2.2)\n",
            "Requirement already satisfied: pyparsing!=3.0.5,>=2.0.2 in /usr/local/lib/python3.7/dist-packages (from packaging->tensorflow) (3.0.9)\n"
          ]
        }
      ],
      "source": [
        "pip install tensorflow"
      ]
    },
    {
      "cell_type": "code",
      "execution_count": 9,
      "metadata": {
        "id": "7HAe1oslwtS7"
      },
      "outputs": [],
      "source": [
        "import numpy as np\n",
        "import torch as t\n",
        "import tensorflow as tf\n",
        "\n",
        "class NeuralNetwork:\n",
        "    def __init__(self, learning_rate):\n",
        "      if learning_rate is not None:\n",
        "        self.weights = np.array([np.random.randn(), np.random.randn()])\n",
        "        self.bias = np.random.randn()\n",
        "        self.learning_rate = learning_rate\n",
        "\n",
        "    def _sigmoid(self, x):\n",
        "        return 1 / (1 + np.exp(-x))\n",
        "\n",
        "    def _sigmoid_deriv(self, x):\n",
        "        return self._sigmoid(x) * (1 - self._sigmoid(x))\n",
        "\n",
        "    def predict(self, input_vector):\n",
        "        layer_1 = np.dot(input_vector, self.weights) + self.bias\n",
        "        layer_2 = self._sigmoid(layer_1)\n",
        "        prediction = layer_2\n",
        "        return prediction\n",
        "\n",
        "    def _compute_gradients(self, input_vector, target):\n",
        "        layer_1 = np.dot(input_vector, self.weights) + self.bias\n",
        "        layer_2 = self._sigmoid(layer_1)\n",
        "        prediction = layer_2\n",
        "\n",
        "        d_error_dprediction = 2 * (prediction - target)\n",
        "        dlayer1_dprediction = self._sigmoid_deriv(layer_1)\n",
        "        dlayer1_dbias = 1\n",
        "        dlayer1_dweights = (0 * self.weights) + (1 * input_vector)\n",
        "\n",
        "        derror_dbias = (\n",
        "            d_error_dprediction * dlayer1_dprediction * dlayer1_dbias\n",
        "        )\n",
        "        derror_dweights = (\n",
        "            d_error_dprediction * dlayer1_dprediction * dlayer1_dweights\n",
        "        )\n",
        "\n",
        "        return derror_dbias, derror_dweights\n",
        "\n",
        "    def _update_parameters(self, derror_dbias, derror_dweights):\n",
        "        self.bias = self.bias - (derror_dbias * self.learning_rate)\n",
        "        self.weights = self.weights - (\n",
        "            derror_dweights * self.learning_rate\n",
        "        )\n",
        "    def predictServer(self,operation,Size,importance):\n",
        "      g=TasksGraph(len(ser))\n",
        "      for i in range(len(ser)-1):\n",
        "        g.addEdge(i,i+1)\n",
        "        if g.isCyclic()!=1:\n",
        "          return \"Best Server to assign this task is Server:\"+str(ser[operations.index(operation)])\n",
        "      return None"
      ]
    },
    {
      "cell_type": "code",
      "execution_count": 10,
      "metadata": {
        "id": "idlj1iWyykaM"
      },
      "outputs": [],
      "source": [
        "class NeuralNetworkToTrain:\n",
        "\n",
        "\n",
        "    def train(self, input_vectors, targets, iterations):\n",
        "        cumulative_errors = []\n",
        "        for current_iteration in range(iterations):\n",
        "            if input_vectors is None:\n",
        "              break\n",
        "            random_data_index = np.random.randint(len(input_vectors))\n",
        "\n",
        "            input_vector = input_vectors[random_data_index]\n",
        "            target = targets[random_data_index]\n",
        "\n",
        "\n",
        "            derror_dbias, derror_dweights = self._compute_gradients(\n",
        "                input_vector, target\n",
        "            )\n",
        "\n",
        "            self._update_parameters(derror_dbias, derror_dweights)\n",
        "\n",
        "\n",
        "            if current_iteration % 100 == 0:\n",
        "                cumulative_error = 0\n",
        "\n",
        "                for data_instance_index in range(len(input_vectors)):\n",
        "                    data_point = input_vectors[data_instance_index]\n",
        "                    target = targets[data_instance_index]\n",
        "\n",
        "                    prediction = self.predict(data_point)\n",
        "                    error = np.square(prediction - target)\n",
        "\n",
        "                    cumulative_error = cumulative_error + error\n",
        "                cumulative_errors.append(cumulative_error)\n",
        "\n",
        "        return cumulative_errors\n",
        "        "
      ]
    },
    {
      "cell_type": "markdown",
      "metadata": {
        "id": "YSuXaDx4XmBi"
      },
      "source": [
        "# Server Cofiguration"
      ]
    },
    {
      "cell_type": "code",
      "execution_count": 11,
      "metadata": {
        "id": "JXScYkQY2V2c"
      },
      "outputs": [],
      "source": [
        "# Registering cluster details\n",
        "\n",
        "Server(storage=1024,data=2046,CPU=\"16 Cores\",GPU=\"1G\",networkstrength=\"50GBps\",gradient=\"High\",serverid=\"0\")\n",
        "Server(storage=512,data=2046,CPU=\"24 Cores\",GPU=\"3G\",networkstrength=\"50GBps\",gradient=\"High\",serverid=\"1\")\n",
        "Server(storage=64,data=128,CPU=\"4 Cores\",GPU=\"0.1G\",networkstrength=\"5GBps\",gradient=\"Low\",serverid=\"2\")\n",
        "Server(storage=1024,data=2046,CPU=\"16 Cores\",GPU=\"1G\",networkstrength=\"50GBps\",gradient=\"Medium\",serverid=\"3\")\n",
        "Server(storage=1024,data=2046,CPU=\"16 Cores\",GPU=\"1G\",networkstrength=\"70GBps\",gradient=\"High\",serverid=\"5\")\n",
        "\n"
      ]
    },
    {
      "cell_type": "code",
      "execution_count": 12,
      "metadata": {
        "id": "FXWQEWWR8-zp"
      },
      "outputs": [],
      "source": [
        "# Load Data\n",
        "\n",
        "LoadData(\"CloudLoadBalancer/trainclouddata.csv\")\n",
        "#print(rows)"
      ]
    },
    {
      "cell_type": "code",
      "execution_count": 13,
      "metadata": {
        "colab": {
          "base_uri": "https://localhost:8080/"
        },
        "id": "w-dyr7soOSbY",
        "outputId": "1e1f5c40-478b-4d2f-f14b-0dbf6d5b1416"
      },
      "outputs": [
        {
          "output_type": "execute_result",
          "data": {
            "text/plain": [
              "[]"
            ]
          },
          "metadata": {},
          "execution_count": 13
        }
      ],
      "source": [
        "#Training Neuralnet\n",
        "n=NeuralNetworkToTrain()\n",
        "n.train(None,\"Target\",2)"
      ]
    },
    {
      "cell_type": "code",
      "execution_count": null,
      "metadata": {
        "id": "9aKxit55Qio3"
      },
      "outputs": [],
      "source": []
    },
    {
      "cell_type": "markdown",
      "metadata": {
        "id": "ThU_WBsnXsby"
      },
      "source": [
        "# Input Section"
      ]
    },
    {
      "cell_type": "code",
      "execution_count": 14,
      "metadata": {
        "colab": {
          "base_uri": "https://localhost:8080/"
        },
        "id": "4TP1-AWxScyU",
        "outputId": "707701f2-9b17-4198-ba64-78279f8c7dbb"
      },
      "outputs": [
        {
          "output_type": "stream",
          "name": "stdout",
          "text": [
            "Best Server to assign this task is Server:2\n"
          ]
        }
      ],
      "source": [
        "#################### INPUT SECTION ###########################\n",
        "\n",
        "mynet=NeuralNetwork(None)\n",
        "op=mynet.predictServer(operation=\"ShortStream\",Size=\"512Kb\",importance=\"High\")\n",
        "\n",
        "print(op)"
      ]
    },
    {
      "cell_type": "code",
      "execution_count": 15,
      "metadata": {
        "colab": {
          "base_uri": "https://localhost:8080/",
          "height": 35
        },
        "id": "lqle_GYqVI-w",
        "outputId": "ede9b064-3392-4182-ec05-2cc93e97a808"
      },
      "outputs": [
        {
          "output_type": "execute_result",
          "data": {
            "text/plain": [
              "'\\nAll operations we have:\\n\\nUpload\\nDownload\\nStream\\nLiveStream\\nShortStream\\n\\n\\n'"
            ],
            "application/vnd.google.colaboratory.intrinsic+json": {
              "type": "string"
            }
          },
          "metadata": {},
          "execution_count": 15
        }
      ],
      "source": [
        "'''\n",
        "All operations we have:\n",
        "\n",
        "Upload\n",
        "Download\n",
        "Stream\n",
        "LiveStream\n",
        "ShortStream\n",
        "\n",
        "\n",
        "'''"
      ]
    }
  ],
  "metadata": {
    "colab": {
      "collapsed_sections": [],
      "provenance": []
    },
    "kernelspec": {
      "display_name": "Python 3 (ipykernel)",
      "language": "python",
      "name": "python3"
    },
    "language_info": {
      "codemirror_mode": {
        "name": "ipython",
        "version": 3
      },
      "file_extension": ".py",
      "mimetype": "text/x-python",
      "name": "python",
      "nbconvert_exporter": "python",
      "pygments_lexer": "ipython3",
      "version": "3.9.13"
    }
  },
  "nbformat": 4,
  "nbformat_minor": 0
}